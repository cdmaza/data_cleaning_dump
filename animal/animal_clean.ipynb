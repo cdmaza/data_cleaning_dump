{
 "cells": [
  {
   "cell_type": "code",
   "execution_count": 70,
   "metadata": {},
   "outputs": [],
   "source": [
    "# Import necessary libraries\n",
    "import pandas as pd\n",
    "import matplotlib.pyplot as plt\n",
    "import re\n",
    "from itertools import zip_longest"
   ]
  },
  {
   "cell_type": "code",
   "execution_count": 43,
   "metadata": {},
   "outputs": [
    {
     "name": "stdout",
     "output_type": "stream",
     "text": [
      "Name               object\n",
      "Kingdom            object\n",
      "Phylum             object\n",
      "Subphylum          object\n",
      "Class              object\n",
      "Order              object\n",
      "Suborder           object\n",
      "Family             object\n",
      "Genus              object\n",
      "Species            object\n",
      "Population size    object\n",
      "Life span          object\n",
      "Top speed          object\n",
      "Weight             object\n",
      "Height             object\n",
      "Length             object\n",
      "Attributes         object\n",
      "Distribution       object\n",
      "Habits             object\n",
      "Diet               object\n",
      "Mating_Habits      object\n",
      "Population         object\n",
      "dtype: object\n"
     ]
    }
   ],
   "source": [
    "df = pd.read_csv('./animals_info.csv',encoding='ISO-8859-1')\n",
    "print(df.dtypes)"
   ]
  },
  {
   "cell_type": "code",
   "execution_count": null,
   "metadata": {},
   "outputs": [],
   "source": [
    "# data aim\n",
    "# 1. clean data\n",
    "# 2. seperate data into category (animal type, physical characteristics, habitat, diet, etc)"
   ]
  },
  {
   "cell_type": "code",
   "execution_count": 7,
   "metadata": {},
   "outputs": [],
   "source": [
    "# things to achieve\n",
    "# 1. Kingdom - some data have repeated specimen, \n",
    "# create two folder to leminate the different\n",
    "kingdom_anomoloy = df[df[\"Kingdom\"].duplicated(keep=False) == False]\n",
    "df = df[df[\"Kingdom\"].duplicated(keep=False)]\n",
    "kingdom_anomoloy.to_csv('unique_values.csv', index=False)\n",
    "df.to_csv('ori.csv', index=False)\n",
    "\n"
   ]
  },
  {
   "cell_type": "code",
   "execution_count": null,
   "metadata": {},
   "outputs": [],
   "source": [
    "# 2. Phylum\n",
    "# 3. Subphylum - state become short form, make new column for district\n",
    "# 4. Class - change to number\n",
    "# 5. order - dump or important?\n",
    "# 6. suborder - kiv, maybe - rank their role, executive, administrator, lead, assistant\n",
    "# 7. family - to common format\n",
    "# 8. genus - to common format\n",
    "# 9. species - to common format\n"
   ]
  },
  {
   "cell_type": "code",
   "execution_count": 100,
   "metadata": {},
   "outputs": [
    {
     "ename": "ValueError",
     "evalue": "could not convert string to float: ''",
     "output_type": "error",
     "traceback": [
      "\u001b[1;31m---------------------------------------------------------------------------\u001b[0m",
      "\u001b[1;31mValueError\u001b[0m                                Traceback (most recent call last)",
      "\u001b[1;32m~\\AppData\\Local\\Temp/ipykernel_8500/3774312686.py\u001b[0m in \u001b[0;36m<module>\u001b[1;34m\u001b[0m\n\u001b[0;32m     68\u001b[0m     \u001b[1;32mreturn\u001b[0m \u001b[0mpd\u001b[0m\u001b[1;33m.\u001b[0m\u001b[0mSeries\u001b[0m\u001b[1;33m(\u001b[0m\u001b[1;33m[\u001b[0m\u001b[0mmin_value\u001b[0m\u001b[1;33m,\u001b[0m \u001b[0mmax_value\u001b[0m\u001b[1;33m,\u001b[0m \u001b[0mtype\u001b[0m\u001b[1;33m,\u001b[0m \u001b[0mnumbers\u001b[0m\u001b[1;33m]\u001b[0m\u001b[1;33m)\u001b[0m\u001b[1;33m\u001b[0m\u001b[1;33m\u001b[0m\u001b[0m\n\u001b[0;32m     69\u001b[0m \u001b[1;33m\u001b[0m\u001b[0m\n\u001b[1;32m---> 70\u001b[1;33m \u001b[0mdf\u001b[0m\u001b[1;33m[\u001b[0m\u001b[1;33m[\u001b[0m\u001b[1;34m'population_min'\u001b[0m\u001b[1;33m,\u001b[0m \u001b[1;34m'population_max'\u001b[0m\u001b[1;33m,\u001b[0m\u001b[1;34m'population_others'\u001b[0m\u001b[1;33m,\u001b[0m \u001b[1;34m'other'\u001b[0m\u001b[1;33m]\u001b[0m\u001b[1;33m]\u001b[0m \u001b[1;33m=\u001b[0m \u001b[0mdf\u001b[0m\u001b[1;33m[\u001b[0m\u001b[1;34m'Population size'\u001b[0m\u001b[1;33m]\u001b[0m\u001b[1;33m.\u001b[0m\u001b[0mapply\u001b[0m\u001b[1;33m(\u001b[0m\u001b[0mtransform_population\u001b[0m\u001b[1;33m)\u001b[0m\u001b[1;33m\u001b[0m\u001b[1;33m\u001b[0m\u001b[0m\n\u001b[0m",
      "\u001b[1;32mc:\\Users\\User\\AppData\\Local\\Programs\\Python\\Python38\\lib\\site-packages\\pandas\\core\\series.py\u001b[0m in \u001b[0;36mapply\u001b[1;34m(self, func, convert_dtype, args, **kwargs)\u001b[0m\n\u001b[0;32m   4769\u001b[0m         \u001b[0mdtype\u001b[0m\u001b[1;33m:\u001b[0m \u001b[0mfloat64\u001b[0m\u001b[1;33m\u001b[0m\u001b[1;33m\u001b[0m\u001b[0m\n\u001b[0;32m   4770\u001b[0m         \"\"\"\n\u001b[1;32m-> 4771\u001b[1;33m         \u001b[1;32mreturn\u001b[0m \u001b[0mSeriesApply\u001b[0m\u001b[1;33m(\u001b[0m\u001b[0mself\u001b[0m\u001b[1;33m,\u001b[0m \u001b[0mfunc\u001b[0m\u001b[1;33m,\u001b[0m \u001b[0mconvert_dtype\u001b[0m\u001b[1;33m,\u001b[0m \u001b[0margs\u001b[0m\u001b[1;33m,\u001b[0m \u001b[0mkwargs\u001b[0m\u001b[1;33m)\u001b[0m\u001b[1;33m.\u001b[0m\u001b[0mapply\u001b[0m\u001b[1;33m(\u001b[0m\u001b[1;33m)\u001b[0m\u001b[1;33m\u001b[0m\u001b[1;33m\u001b[0m\u001b[0m\n\u001b[0m\u001b[0;32m   4772\u001b[0m \u001b[1;33m\u001b[0m\u001b[0m\n\u001b[0;32m   4773\u001b[0m     def _reduce(\n",
      "\u001b[1;32mc:\\Users\\User\\AppData\\Local\\Programs\\Python\\Python38\\lib\\site-packages\\pandas\\core\\apply.py\u001b[0m in \u001b[0;36mapply\u001b[1;34m(self)\u001b[0m\n\u001b[0;32m   1103\u001b[0m \u001b[1;33m\u001b[0m\u001b[0m\n\u001b[0;32m   1104\u001b[0m         \u001b[1;31m# self.f is Callable\u001b[0m\u001b[1;33m\u001b[0m\u001b[1;33m\u001b[0m\u001b[1;33m\u001b[0m\u001b[0m\n\u001b[1;32m-> 1105\u001b[1;33m         \u001b[1;32mreturn\u001b[0m \u001b[0mself\u001b[0m\u001b[1;33m.\u001b[0m\u001b[0mapply_standard\u001b[0m\u001b[1;33m(\u001b[0m\u001b[1;33m)\u001b[0m\u001b[1;33m\u001b[0m\u001b[1;33m\u001b[0m\u001b[0m\n\u001b[0m\u001b[0;32m   1106\u001b[0m \u001b[1;33m\u001b[0m\u001b[0m\n\u001b[0;32m   1107\u001b[0m     \u001b[1;32mdef\u001b[0m \u001b[0magg\u001b[0m\u001b[1;33m(\u001b[0m\u001b[0mself\u001b[0m\u001b[1;33m)\u001b[0m\u001b[1;33m:\u001b[0m\u001b[1;33m\u001b[0m\u001b[1;33m\u001b[0m\u001b[0m\n",
      "\u001b[1;32mc:\\Users\\User\\AppData\\Local\\Programs\\Python\\Python38\\lib\\site-packages\\pandas\\core\\apply.py\u001b[0m in \u001b[0;36mapply_standard\u001b[1;34m(self)\u001b[0m\n\u001b[0;32m   1154\u001b[0m             \u001b[1;32melse\u001b[0m\u001b[1;33m:\u001b[0m\u001b[1;33m\u001b[0m\u001b[1;33m\u001b[0m\u001b[0m\n\u001b[0;32m   1155\u001b[0m                 \u001b[0mvalues\u001b[0m \u001b[1;33m=\u001b[0m \u001b[0mobj\u001b[0m\u001b[1;33m.\u001b[0m\u001b[0mastype\u001b[0m\u001b[1;33m(\u001b[0m\u001b[0mobject\u001b[0m\u001b[1;33m)\u001b[0m\u001b[1;33m.\u001b[0m\u001b[0m_values\u001b[0m\u001b[1;33m\u001b[0m\u001b[1;33m\u001b[0m\u001b[0m\n\u001b[1;32m-> 1156\u001b[1;33m                 mapped = lib.map_infer(\n\u001b[0m\u001b[0;32m   1157\u001b[0m                     \u001b[0mvalues\u001b[0m\u001b[1;33m,\u001b[0m\u001b[1;33m\u001b[0m\u001b[1;33m\u001b[0m\u001b[0m\n\u001b[0;32m   1158\u001b[0m                     \u001b[0mf\u001b[0m\u001b[1;33m,\u001b[0m\u001b[1;33m\u001b[0m\u001b[1;33m\u001b[0m\u001b[0m\n",
      "\u001b[1;32mc:\\Users\\User\\AppData\\Local\\Programs\\Python\\Python38\\lib\\site-packages\\pandas\\_libs\\lib.pyx\u001b[0m in \u001b[0;36mpandas._libs.lib.map_infer\u001b[1;34m()\u001b[0m\n",
      "\u001b[1;32m~\\AppData\\Local\\Temp/ipykernel_8500/3774312686.py\u001b[0m in \u001b[0;36mtransform_population\u001b[1;34m(population)\u001b[0m\n\u001b[0;32m     53\u001b[0m         \u001b[1;32mreturn\u001b[0m \u001b[0mpd\u001b[0m\u001b[1;33m.\u001b[0m\u001b[0mSeries\u001b[0m\u001b[1;33m(\u001b[0m\u001b[1;33m[\u001b[0m\u001b[1;36m0\u001b[0m\u001b[1;33m,\u001b[0m \u001b[1;36m0\u001b[0m\u001b[1;33m,\u001b[0m \u001b[0mpopulation\u001b[0m\u001b[1;33m]\u001b[0m\u001b[1;33m)\u001b[0m\u001b[1;33m\u001b[0m\u001b[1;33m\u001b[0m\u001b[0m\n\u001b[0;32m     54\u001b[0m \u001b[1;33m\u001b[0m\u001b[0m\n\u001b[1;32m---> 55\u001b[1;33m     \u001b[0mnumbers\u001b[0m \u001b[1;33m=\u001b[0m \u001b[0mchange_type\u001b[0m\u001b[1;33m(\u001b[0m\u001b[0mnumbers\u001b[0m\u001b[1;33m,\u001b[0m \u001b[0mtype\u001b[0m\u001b[1;33m)\u001b[0m\u001b[1;33m\u001b[0m\u001b[1;33m\u001b[0m\u001b[0m\n\u001b[0m\u001b[0;32m     56\u001b[0m     \u001b[0mmin_value\u001b[0m\u001b[1;33m,\u001b[0m \u001b[0mmax_value\u001b[0m \u001b[1;33m=\u001b[0m \u001b[0mget_min_max\u001b[0m\u001b[1;33m(\u001b[0m\u001b[0mnumbers\u001b[0m\u001b[1;33m,\u001b[0m \u001b[0mtype\u001b[0m\u001b[1;33m)\u001b[0m\u001b[1;33m\u001b[0m\u001b[1;33m\u001b[0m\u001b[0m\n\u001b[0;32m     57\u001b[0m \u001b[1;33m\u001b[0m\u001b[0m\n",
      "\u001b[1;32m~\\AppData\\Local\\Temp/ipykernel_8500/3774312686.py\u001b[0m in \u001b[0;36mchange_type\u001b[1;34m(numbers, types)\u001b[0m\n\u001b[0;32m     23\u001b[0m \u001b[1;33m\u001b[0m\u001b[0m\n\u001b[0;32m     24\u001b[0m         \u001b[1;32mfor\u001b[0m \u001b[0mi\u001b[0m \u001b[1;32min\u001b[0m \u001b[0mnumber\u001b[0m\u001b[1;33m:\u001b[0m\u001b[1;33m\u001b[0m\u001b[1;33m\u001b[0m\u001b[0m\n\u001b[1;32m---> 25\u001b[1;33m             \u001b[0mtemp\u001b[0m \u001b[1;33m=\u001b[0m \u001b[0mconvert\u001b[0m \u001b[1;33m*\u001b[0m \u001b[0mfloat\u001b[0m\u001b[1;33m(\u001b[0m\u001b[1;34m''\u001b[0m\u001b[1;33m.\u001b[0m\u001b[0mjoin\u001b[0m\u001b[1;33m(\u001b[0m\u001b[0mi\u001b[0m\u001b[1;33m.\u001b[0m\u001b[0msplit\u001b[0m\u001b[1;33m(\u001b[0m\u001b[1;34m','\u001b[0m\u001b[1;33m)\u001b[0m\u001b[1;33m)\u001b[0m\u001b[1;33m)\u001b[0m\u001b[1;33m\u001b[0m\u001b[1;33m\u001b[0m\u001b[0m\n\u001b[0m\u001b[0;32m     26\u001b[0m \u001b[1;33m\u001b[0m\u001b[0m\n\u001b[0;32m     27\u001b[0m     \u001b[1;32mreturn\u001b[0m \u001b[0mtemp\u001b[0m\u001b[1;33m\u001b[0m\u001b[1;33m\u001b[0m\u001b[0m\n",
      "\u001b[1;31mValueError\u001b[0m: could not convert string to float: ''"
     ]
    }
   ],
   "source": [
    "df = pd.read_csv('./animals_info.csv',encoding='ISO-8859-1')\n",
    "\n",
    "def change_type(numbers, types):\n",
    "    temp = []\n",
    "    for number, type1 in zip_longest(numbers, types, fillvalue='none'):\n",
    "        convert = 1.0\n",
    "\n",
    "        # if not number:\n",
    "        #     number.append(0)\n",
    "        #     continueS\n",
    "\n",
    "        # if re.search(r',', number) and len(number[i]) > 1:\n",
    "        # if re.search(r',', number):\n",
    "        #     number = number.replace(',', '.')\n",
    "\n",
    "        if re.search(r'b', type1, flags=re.IGNORECASE):\n",
    "            if re.search(r'^(below|above)$', type1, flags=re.IGNORECASE):\n",
    "                convert = 1000000000\n",
    "        elif re.search(r'm', type1, flags=re.IGNORECASE):\n",
    "            convert = 1000000 \n",
    "        elif re.search(r'\\d+[kt]', type1, flags=re.IGNORECASE):\n",
    "            convert = 1000 \n",
    "        \n",
    "        for i in number:\n",
    "            temp = convert * float(''.join(i.split(',')))\n",
    "    \n",
    "    return temp\n",
    "\n",
    "def get_min_max(numbers, types):\n",
    "\n",
    "    min_value = numbers[0] if len(numbers) > 1 else None\n",
    "    max_value = numbers[1] if len(numbers) > 1 else numbers[0]\n",
    "    \n",
    "    for type in types:\n",
    "        if re.search(r'^(below)$', type, flags=re.IGNORECASE):\n",
    "            min_value = 0\n",
    "            max_value = numbers[0]\n",
    "        elif re.search(r'^(above)$', type, flags=re.IGNORECASE):\n",
    "            min_value = numbers[0]\n",
    "            max_value = 0\n",
    "        \n",
    "    return min_value, max_value\n",
    "\n",
    "def transform_population(population):\n",
    "    if not isinstance(population, str):  # Handle non-string values\n",
    "        return pd.Series([0, 0, None, None])\n",
    "\n",
    "    population = re.sub(r'[^\\x00-\\x7F]+', ' ', population)  # Remove non-ASCII characters\n",
    "    numbers = re.findall(r'\\d+(?:,\\d+)*(?:\\.\\d+)?', population)\n",
    "    type = re.findall(r'[a-zA-Z]+', population)\n",
    "\n",
    "    if not numbers:  # If no numbers are found\n",
    "        return pd.Series([0, 0, population]) \n",
    "\n",
    "    numbers = change_type(numbers, type)\n",
    "    min_value, max_value = get_min_max(numbers, type)\n",
    "\n",
    "    # min_value = re.sub(r',', '', min_value)\n",
    "    # max_value = re.sub(r',', '', max_value)\n",
    "\n",
    "    # min_value = str(min_value) if min_value is not None else '0'\n",
    "    # max_value = str(max_value) if max_value is not None else '0'\n",
    "    \n",
    "    # min_value = min_value.fillna(0).astype(int)\n",
    "    # max_value = max_value.fillna(0).astype(int)\n",
    "\n",
    "    # return pd.Series([int(float(min_value)), int(float(max_value)), type, numbers])\n",
    "    return pd.Series([min_value, max_value, type, numbers])\n",
    "\n",
    "df[['population_min', 'population_max','population_others', 'other']] = df['Population size'].apply(transform_population)"
   ]
  },
  {
   "cell_type": "code",
   "execution_count": 12,
   "metadata": {},
   "outputs": [
    {
     "name": "stdout",
     "output_type": "stream",
     "text": [
      "population_min       object\n",
      "population_max       object\n",
      "population_others    object\n",
      "Population size      object\n",
      "dtype: object\n"
     ]
    }
   ],
   "source": [
    "print(df.dtypes)\n"
   ]
  },
  {
   "cell_type": "code",
   "execution_count": 96,
   "metadata": {},
   "outputs": [],
   "source": [
    "df = df[['population_min', 'population_max','population_others','other', 'Population size']]\n",
    "\n",
    "df.to_csv('ori.csv', index=False)"
   ]
  },
  {
   "cell_type": "code",
   "execution_count": null,
   "metadata": {},
   "outputs": [],
   "source": [
    "# 11. life span - make min & max. Blank to 0\n",
    "# 12. top speed - make min & max. Blank to 0\n",
    "# 13. weight -  make min & max. Blank to 0\n",
    "# 14. height -  make min & max. Blank to 0\n",
    "# 15. length -  make min & max. Blank to 0\n",
    "# 16. attributes - kiv, maybe - rank their role, executive, administrator, lead, assistant\n",
    "# 17. distribution - to common format\n",
    "# 18. habits - to common format\n",
    "# 19. diet - to common format\n",
    "# 20. mating habits - similarity (consistent letter case, only sdn bhd capital)\n",
    "# 21. populationn"
   ]
  },
  {
   "cell_type": "code",
   "execution_count": null,
   "metadata": {},
   "outputs": [],
   "source": [
    "# # 10. population size - make min & max. Blank to 0\n",
    "# def change_mil_thous(min, max, strings_at_back):\n",
    "#     convert = 1000\n",
    "\n",
    "#     if re.search(r'm', strings_at_back, flags=re.IGNORECASE):\n",
    "#         convert = 1000000\n",
    "\n",
    "#     if re.search(r',', strings_at_back):\n",
    "#         min = float(min.replace(',', '.'))\n",
    "#         max = float(max.replace(',', '.'))\n",
    "\n",
    "#     return min*convert, max*convert\n",
    "\n",
    "# def transform_population(population):\n",
    "#     strings_at_back = []\n",
    "\n",
    "#     if isinstance(population, str):\n",
    "#         population = re.sub(r'[^\\x00-\\x7F]+', ' ', population)   #original    \n",
    "\n",
    "#         numbers = re.findall(r'\\d+(?:,\\d+)*(?:\\.\\d+)?', population) #1,234, 5678, 90.12\n",
    "        \n",
    "#         if not numbers:\n",
    "#             return pd.Series([None, None, population])\n",
    "        \n",
    "#         min_value = numbers[0] if len(numbers) > 1 else None\n",
    "#         max_value = numbers[1] if len(numbers) > 1 else numbers[0]\n",
    "\n",
    "#         parts = population.split()\n",
    "#         if parts and not parts[-1].isdigit():\n",
    "#             strings_at_back.append(parts[-1])\n",
    "        \n",
    "#         # look for k or m\n",
    "#         if strings_at_back:\n",
    "#             min, max = change_mil_thous(min_value, max_value, strings_at_back)\n",
    "\n",
    "#         min = re.sub(r',', '', min)\n",
    "#         max = re.sub(r',', '', max)\n",
    "\n",
    "#         return pd.Series([min, max, None])\n",
    "    \n",
    "#     return pd.Series([None, None, None])\n",
    "\n",
    "\n",
    "# df[['population_min', 'population_max','population_others']] = df['Population size'].apply(transform_population)"
   ]
  }
 ],
 "metadata": {
  "kernelspec": {
   "display_name": "Python 3",
   "language": "python",
   "name": "python3"
  },
  "language_info": {
   "codemirror_mode": {
    "name": "ipython",
    "version": 3
   },
   "file_extension": ".py",
   "mimetype": "text/x-python",
   "name": "python",
   "nbconvert_exporter": "python",
   "pygments_lexer": "ipython3",
   "version": "3.8.7"
  }
 },
 "nbformat": 4,
 "nbformat_minor": 2
}
