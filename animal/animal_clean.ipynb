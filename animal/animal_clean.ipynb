{
 "cells": [
  {
   "cell_type": "code",
   "execution_count": 24,
   "metadata": {},
   "outputs": [],
   "source": [
    "# Import necessary libraries\n",
    "import pandas as pd\n",
    "import matplotlib.pyplot as plt\n",
    "import re"
   ]
  },
  {
   "cell_type": "code",
   "execution_count": 29,
   "metadata": {},
   "outputs": [
    {
     "name": "stdout",
     "output_type": "stream",
     "text": [
      "Name               object\n",
      "Kingdom            object\n",
      "Phylum             object\n",
      "Subphylum          object\n",
      "Class              object\n",
      "Order              object\n",
      "Suborder           object\n",
      "Family             object\n",
      "Genus              object\n",
      "Species            object\n",
      "Population size    object\n",
      "Life span          object\n",
      "Top speed          object\n",
      "Weight             object\n",
      "Height             object\n",
      "Length             object\n",
      "Attributes         object\n",
      "Distribution       object\n",
      "Habits             object\n",
      "Diet               object\n",
      "Mating_Habits      object\n",
      "Population         object\n",
      "dtype: object\n"
     ]
    }
   ],
   "source": [
    "df = pd.read_csv('./animals_info.csv',encoding='ISO-8859-1')\n",
    "print(df.dtypes)"
   ]
  },
  {
   "cell_type": "code",
   "execution_count": null,
   "metadata": {},
   "outputs": [],
   "source": [
    "# data aim\n",
    "# 1. clean data\n",
    "# 2. seperate data into category (animal type, physical characteristics, habitat, diet, etc)"
   ]
  },
  {
   "cell_type": "code",
   "execution_count": 7,
   "metadata": {},
   "outputs": [],
   "source": [
    "# things to achieve\n",
    "# 1. Kingdom - some data have repeated specimen, \n",
    "# create two folder to leminate the different\n",
    "kingdom_anomoloy = df[df[\"Kingdom\"].duplicated(keep=False) == False]\n",
    "df = df[df[\"Kingdom\"].duplicated(keep=False)]\n",
    "kingdom_anomoloy.to_csv('unique_values.csv', index=False)\n",
    "df.to_csv('ori.csv', index=False)\n",
    "\n"
   ]
  },
  {
   "cell_type": "code",
   "execution_count": null,
   "metadata": {},
   "outputs": [],
   "source": [
    "# 2. Phylum\n",
    "# 3. Subphylum - state become short form, make new column for district\n",
    "# 4. Class - change to number\n",
    "# 5. order - dump or important?\n",
    "# 6. suborder - kiv, maybe - rank their role, executive, administrator, lead, assistant\n",
    "# 7. family - to common format\n",
    "# 8. genus - to common format\n",
    "# 9. species - to common format\n"
   ]
  },
  {
   "cell_type": "code",
   "execution_count": null,
   "metadata": {},
   "outputs": [],
   "source": [
    "# 10. population size - make min & max. Blank to 0\n",
    "def change_mil_thous(population, numbers):\n",
    "    strings_at_back = []\n",
    "\n",
    "    for item in population:\n",
    "        parts = item.split()\n",
    "        if parts and not parts[-1].isdigit():\n",
    "            strings_at_back.append(parts[-1])\n",
    "    \n",
    "    if re.search(r'm', strings_at_back, flags=re.IGNORECASE):\n",
    "\n",
    "    for part in parts:\n",
    "        # Check if the part contains 'mln' or 'thous' and multiply accordingly\n",
    "        if 'mln' in part:\n",
    "            part = float(part.replace('mln', '').replace(',', '.')) * 1000000\n",
    "        elif 'thous' in part:\n",
    "            part = float(part.replace('thous', '').replace(',', '.')) * 1000\n",
    "        else:\n",
    "            part = float(part.replace(',', '.'))\n",
    "\n",
    "    return convert\n",
    "\n",
    "def transform_population(population):\n",
    "    if isinstance(population, str):\n",
    "        population = re.sub(r'[^\\x00-\\x7F]+', ' ', population)       \n",
    "\n",
    "        numbers = re.findall(r'\\d+(?:,\\d+)*(?:\\.\\d+)?', population)\n",
    "        \n",
    "        if not numbers:\n",
    "            return pd.Series([None, None, population])\n",
    "        \n",
    "        parts = population.split()\n",
    "        if parts and not parts[-1].isdigit():\n",
    "            # look for k or m\n",
    "            e_numbers = change_mil_thous(population, numbers)\n",
    "\n",
    "        min_value = e_numbers[0] if len(e_numbers) > 1 else None\n",
    "        max_value = e_numbers[1] if len(e_numbers) > 1 else e_numbers[0]\n",
    "\n",
    "        return pd.Series([min_value, max_value, None])\n",
    "    \n",
    "    return pd.Series([None, None, None])\n",
    "\n",
    "\n",
    "df[['population_min', 'population_max','population_others']] = df['Population size'].apply(transform_population)"
   ]
  },
  {
   "cell_type": "code",
   "execution_count": 12,
   "metadata": {},
   "outputs": [
    {
     "name": "stdout",
     "output_type": "stream",
     "text": [
      "population_min       object\n",
      "population_max       object\n",
      "population_others    object\n",
      "Population size      object\n",
      "dtype: object\n"
     ]
    }
   ],
   "source": [
    "print(df.dtypes)\n"
   ]
  },
  {
   "cell_type": "code",
   "execution_count": 32,
   "metadata": {},
   "outputs": [],
   "source": [
    "df = df[['population_min', 'population_max','population_others', 'Population size']]\n",
    "\n",
    "df.to_csv('ori.csv', index=False)"
   ]
  },
  {
   "cell_type": "code",
   "execution_count": null,
   "metadata": {},
   "outputs": [],
   "source": [
    "# 11. life span - make min & max. Blank to 0\n",
    "# 12. top speed - make min & max. Blank to 0\n",
    "# 13. weight -  make min & max. Blank to 0\n",
    "# 14. height -  make min & max. Blank to 0\n",
    "# 15. length -  make min & max. Blank to 0\n",
    "# 16. attributes - kiv, maybe - rank their role, executive, administrator, lead, assistant\n",
    "# 17. distribution - to common format\n",
    "# 18. habits - to common format\n",
    "# 19. diet - to common format\n",
    "# 20. mating habits - similarity (consistent letter case, only sdn bhd capital)\n",
    "# 21. populationn"
   ]
  }
 ],
 "metadata": {
  "kernelspec": {
   "display_name": "Python 3",
   "language": "python",
   "name": "python3"
  },
  "language_info": {
   "codemirror_mode": {
    "name": "ipython",
    "version": 3
   },
   "file_extension": ".py",
   "mimetype": "text/x-python",
   "name": "python",
   "nbconvert_exporter": "python",
   "pygments_lexer": "ipython3",
   "version": "3.8.7"
  }
 },
 "nbformat": 4,
 "nbformat_minor": 2
}
